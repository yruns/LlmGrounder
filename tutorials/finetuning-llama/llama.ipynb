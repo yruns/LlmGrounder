{
 "cells": [
  {
   "cell_type": "code",
   "outputs": [],
   "source": [
    "from transformers import LlamaForCausalLM, AutoTokenizer\n",
    "\n",
    "model_id = \"pretrained/Meta-Llama-3.1-8B-Instruct\"\n",
    "\n",
    "tokenizer = AutoTokenizer.from_pretrained(model_id)\n",
    "model = LlamaForCausalLM.from_pretrained(\n",
    "    model_id,\n",
    ")\n",
    "import time\n",
    "start = time.time()\n",
    "model.resize_token_embeddings(32005)\n",
    "end = time.time()\n",
    "print(f\"Time taken to resize token embeddings: {end - start} seconds\")\n",
    "\n",
    "question = \"## user: Who are you?\\n## assistant: I am a spatial reasoning model.</s>\"\n",
    "\n",
    "encoding = tokenizer(question, return_offsets_mapping=True)\n",
    "input_ids, offset_mapping = encoding.input_ids, encoding.offset_mapping\n",
    "\n",
    "tokens = encoding.tokens()\n",
    "\n",
    "print(tokens)"
   ],
   "metadata": {
    "collapsed": false
   },
   "id": "d04ef1fba6c7544f"
  }
 ],
 "metadata": {
  "kernelspec": {
   "display_name": "Python 3",
   "language": "python",
   "name": "python3"
  },
  "language_info": {
   "codemirror_mode": {
    "name": "ipython",
    "version": 2
   },
   "file_extension": ".py",
   "mimetype": "text/x-python",
   "name": "python",
   "nbconvert_exporter": "python",
   "pygments_lexer": "ipython2",
   "version": "2.7.6"
  }
 },
 "nbformat": 4,
 "nbformat_minor": 5
}
