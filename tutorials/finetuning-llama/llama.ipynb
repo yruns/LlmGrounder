{
 "cells": [
  {
   "cell_type": "code",
   "id": "initial_id",
   "metadata": {
    "collapsed": true,
    "ExecuteTime": {
     "end_time": "2024-08-18T05:51:04.491435Z",
     "start_time": "2024-08-18T05:51:04.018073Z"
    }
   },
   "source": [
    "import copy\n",
    "\n",
    "import transformers\n",
    "import torch\n",
    "\n",
    "\n",
    "model_id = \"../../pretrained/vicuna-7b-v1.3\"\n",
    "\n",
    "tokenizer = transformers.AutoTokenizer.from_pretrained(model_id)"
   ],
   "outputs": [],
   "execution_count": 19
  },
  {
   "metadata": {
    "ExecuteTime": {
     "end_time": "2024-08-18T05:51:05.149331Z",
     "start_time": "2024-08-18T05:51:05.133208Z"
    }
   },
   "cell_type": "code",
   "source": [
    "len(tokenizer)\n",
    "snippet = \"You are a good man.## human: <scene/>\\nhelp me find the object.## assistant: ok, it's in the corner.## human: what is the object?## assistant: the object is in the corner.</s>CCC\""
   ],
   "id": "eec544dc8876089a",
   "outputs": [],
   "execution_count": 20
  },
  {
   "metadata": {
    "ExecuteTime": {
     "end_time": "2024-08-18T05:51:06.311356Z",
     "start_time": "2024-08-18T05:51:06.301586Z"
    }
   },
   "cell_type": "code",
   "source": [
    "print(tokenizer(snippet, return_offsets_mapping=True))\n",
    "print(tokenizer.encode(snippet, return_offsets_mapping=True))\n",
    "print(tokenizer(snippet, return_offsets_mapping=True).tokens())"
   ],
   "id": "5af546ea766e24a6",
   "outputs": [
    {
     "name": "stdout",
     "output_type": "stream",
     "text": [
      "{'input_ids': [1, 887, 526, 263, 1781, 767, 29889, 2277, 5199, 29901, 529, 24645, 3779, 13, 8477, 592, 1284, 278, 1203, 29889, 2277, 20255, 29901, 3431, 29892, 372, 29915, 29879, 297, 278, 11155, 29889, 2277, 5199, 29901, 825, 338, 278, 1203, 29973, 2277, 20255, 29901, 278, 1203, 338, 297, 278, 11155, 29889, 2, 315, 4174], 'attention_mask': [1, 1, 1, 1, 1, 1, 1, 1, 1, 1, 1, 1, 1, 1, 1, 1, 1, 1, 1, 1, 1, 1, 1, 1, 1, 1, 1, 1, 1, 1, 1, 1, 1, 1, 1, 1, 1, 1, 1, 1, 1, 1, 1, 1, 1, 1, 1, 1, 1, 1, 1, 1, 1], 'offset_mapping': [(0, 0), (0, 3), (3, 7), (7, 9), (9, 14), (14, 18), (18, 19), (19, 21), (21, 27), (27, 28), (28, 30), (30, 35), (35, 37), (37, 38), (38, 42), (42, 45), (45, 50), (50, 54), (54, 61), (61, 62), (62, 64), (64, 74), (74, 75), (75, 78), (78, 79), (79, 82), (82, 83), (83, 84), (84, 87), (87, 91), (91, 98), (98, 99), (99, 101), (101, 107), (107, 108), (108, 113), (113, 116), (116, 120), (120, 127), (127, 128), (128, 130), (130, 140), (140, 141), (141, 145), (145, 152), (152, 155), (155, 158), (158, 162), (162, 169), (169, 170), (170, 174), (174, 175), (175, 177)]}\n",
      "[1, 887, 526, 263, 1781, 767, 29889, 2277, 5199, 29901, 529, 24645, 3779, 13, 8477, 592, 1284, 278, 1203, 29889, 2277, 20255, 29901, 3431, 29892, 372, 29915, 29879, 297, 278, 11155, 29889, 2277, 5199, 29901, 825, 338, 278, 1203, 29973, 2277, 20255, 29901, 278, 1203, 338, 297, 278, 11155, 29889, 2, 315, 4174]\n",
      "['<s>', '▁You', '▁are', '▁a', '▁good', '▁man', '.', '##', '▁human', ':', '▁<', 'scene', '/>', '<0x0A>', 'help', '▁me', '▁find', '▁the', '▁object', '.', '##', '▁assistant', ':', '▁ok', ',', '▁it', \"'\", 's', '▁in', '▁the', '▁corner', '.', '##', '▁human', ':', '▁what', '▁is', '▁the', '▁object', '?', '##', '▁assistant', ':', '▁the', '▁object', '▁is', '▁in', '▁the', '▁corner', '.', '</s>', '▁C', 'CC']\n"
     ]
    }
   ],
   "execution_count": 21
  },
  {
   "metadata": {
    "ExecuteTime": {
     "end_time": "2024-08-18T05:51:10.257664Z",
     "start_time": "2024-08-18T05:51:09.889668Z"
    }
   },
   "cell_type": "code",
   "source": [
    "tokenizer_copy = transformers.AutoTokenizer.from_pretrained(tokenizer.name_or_path)\n",
    "\n",
    "tokenizer_copy.add_tokens([\"<scene/>\"], special_tokens=True)\n",
    "\n",
    "print(tokenizer_copy(snippet, return_offsets_mapping=True))\n",
    "print(tokenizer_copy.encode(snippet, return_offsets_mapping=True))\n",
    "print(tokenizer_copy(snippet, return_offsets_mapping=True).tokens())"
   ],
   "id": "3133488ba5b865e3",
   "outputs": [
    {
     "name": "stdout",
     "output_type": "stream",
     "text": [
      "{'input_ids': [1, 887, 526, 263, 1781, 767, 29889, 2277, 5199, 29901, 29871, 32000, 29871, 13, 8477, 592, 1284, 278, 1203, 29889, 2277, 20255, 29901, 3431, 29892, 372, 29915, 29879, 297, 278, 11155, 29889, 2277, 5199, 29901, 825, 338, 278, 1203, 29973, 2277, 20255, 29901, 278, 1203, 338, 297, 278, 11155, 29889, 2, 315, 4174], 'attention_mask': [1, 1, 1, 1, 1, 1, 1, 1, 1, 1, 1, 1, 1, 1, 1, 1, 1, 1, 1, 1, 1, 1, 1, 1, 1, 1, 1, 1, 1, 1, 1, 1, 1, 1, 1, 1, 1, 1, 1, 1, 1, 1, 1, 1, 1, 1, 1, 1, 1, 1, 1, 1, 1], 'offset_mapping': [(0, 0), (0, 3), (3, 7), (7, 9), (9, 14), (14, 18), (18, 19), (19, 21), (21, 27), (27, 28), (28, 29), (29, 37), (37, 38), (37, 38), (38, 42), (42, 45), (45, 50), (50, 54), (54, 61), (61, 62), (62, 64), (64, 74), (74, 75), (75, 78), (78, 79), (79, 82), (82, 83), (83, 84), (84, 87), (87, 91), (91, 98), (98, 99), (99, 101), (101, 107), (107, 108), (108, 113), (113, 116), (116, 120), (120, 127), (127, 128), (128, 130), (130, 140), (140, 141), (141, 145), (145, 152), (152, 155), (155, 158), (158, 162), (162, 169), (169, 170), (170, 174), (174, 175), (175, 177)]}\n",
      "[1, 887, 526, 263, 1781, 767, 29889, 2277, 5199, 29901, 29871, 32000, 29871, 13, 8477, 592, 1284, 278, 1203, 29889, 2277, 20255, 29901, 3431, 29892, 372, 29915, 29879, 297, 278, 11155, 29889, 2277, 5199, 29901, 825, 338, 278, 1203, 29973, 2277, 20255, 29901, 278, 1203, 338, 297, 278, 11155, 29889, 2, 315, 4174]\n",
      "['<s>', '▁You', '▁are', '▁a', '▁good', '▁man', '.', '##', '▁human', ':', '▁', '<scene/>', '▁', '<0x0A>', 'help', '▁me', '▁find', '▁the', '▁object', '.', '##', '▁assistant', ':', '▁ok', ',', '▁it', \"'\", 's', '▁in', '▁the', '▁corner', '.', '##', '▁human', ':', '▁what', '▁is', '▁the', '▁object', '?', '##', '▁assistant', ':', '▁the', '▁object', '▁is', '▁in', '▁the', '▁corner', '.', '</s>', '▁C', 'CC']\n"
     ]
    }
   ],
   "execution_count": 22
  },
  {
   "metadata": {
    "ExecuteTime": {
     "end_time": "2024-08-18T05:51:31.975928Z",
     "start_time": "2024-08-18T05:51:31.959269Z"
    }
   },
   "cell_type": "code",
   "source": "len(tokenizer_copy)",
   "id": "da8c850eee66dbcc",
   "outputs": [
    {
     "data": {
      "text/plain": [
       "32001"
      ]
     },
     "execution_count": 24,
     "metadata": {},
     "output_type": "execute_result"
    }
   ],
   "execution_count": 24
  },
  {
   "metadata": {
    "ExecuteTime": {
     "end_time": "2024-08-18T06:36:57.185549Z",
     "start_time": "2024-08-18T06:36:57.177081Z"
    }
   },
   "cell_type": "code",
   "source": "isinstance(tokenizer, transformers.AutoTokenizer)",
   "id": "6e6292aa28a2daa5",
   "outputs": [
    {
     "data": {
      "text/plain": [
       "False"
      ]
     },
     "execution_count": 28,
     "metadata": {},
     "output_type": "execute_result"
    }
   ],
   "execution_count": 28
  },
  {
   "metadata": {
    "ExecuteTime": {
     "end_time": "2024-08-18T06:36:18.524682Z",
     "start_time": "2024-08-18T06:36:18.515982Z"
    }
   },
   "cell_type": "code",
   "source": "tokenizer",
   "id": "9f1262892b509374",
   "outputs": [
    {
     "data": {
      "text/plain": [
       "LlamaTokenizerFast(name_or_path='../../pretrained/vicuna-7b-v1.3', vocab_size=32000, model_max_length=2048, is_fast=True, padding_side='right', truncation_side='right', special_tokens={'bos_token': '<s>', 'eos_token': '</s>', 'unk_token': '<unk>', 'pad_token': '<unk>'}, clean_up_tokenization_spaces=False),  added_tokens_decoder={\n",
       "\t0: AddedToken(\"<unk>\", rstrip=False, lstrip=False, single_word=False, normalized=True, special=True),\n",
       "\t1: AddedToken(\"<s>\", rstrip=False, lstrip=False, single_word=False, normalized=True, special=True),\n",
       "\t2: AddedToken(\"</s>\", rstrip=False, lstrip=False, single_word=False, normalized=True, special=True),\n",
       "}"
      ]
     },
     "execution_count": 27,
     "metadata": {},
     "output_type": "execute_result"
    }
   ],
   "execution_count": 27
  },
  {
   "metadata": {
    "ExecuteTime": {
     "end_time": "2024-08-18T06:39:19.083677Z",
     "start_time": "2024-08-18T06:39:19.076405Z"
    }
   },
   "cell_type": "code",
   "source": "from torch.utils.data import DataLoader",
   "id": "6d89ae4db844389d",
   "outputs": [],
   "execution_count": 29
  },
  {
   "metadata": {},
   "cell_type": "code",
   "outputs": [],
   "execution_count": null,
   "source": "loader = DataLoader",
   "id": "dc4d30096414f965"
  }
 ],
 "metadata": {
  "kernelspec": {
   "display_name": "Python 3",
   "language": "python",
   "name": "python3"
  },
  "language_info": {
   "codemirror_mode": {
    "name": "ipython",
    "version": 2
   },
   "file_extension": ".py",
   "mimetype": "text/x-python",
   "name": "python",
   "nbconvert_exporter": "python",
   "pygments_lexer": "ipython2",
   "version": "2.7.6"
  }
 },
 "nbformat": 4,
 "nbformat_minor": 5
}
