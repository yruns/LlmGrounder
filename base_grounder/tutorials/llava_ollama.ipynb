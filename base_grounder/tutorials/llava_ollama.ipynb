{
 "cells": [
  {
   "cell_type": "code",
   "id": "initial_id",
   "metadata": {
    "collapsed": true,
    "ExecuteTime": {
     "end_time": "2024-07-31T14:15:19.518563Z",
     "start_time": "2024-07-31T14:15:17.946919Z"
    }
   },
   "source": [
    "from langchain_ollama.llms import OllamaLLM\n",
    "\n",
    "llm = OllamaLLM(model=\"llava:34b\", temperature=0)\n",
    "\n",
    "# warmup\n",
    "llm.invoke(\"hello\")"
   ],
   "outputs": [
    {
     "data": {
      "text/plain": [
       "'Hello! How can I help you today?'"
      ]
     },
     "execution_count": 1,
     "metadata": {},
     "output_type": "execute_result"
    }
   ],
   "execution_count": 1
  },
  {
   "metadata": {
    "ExecuteTime": {
     "end_time": "2024-07-31T14:16:25.151507Z",
     "start_time": "2024-07-31T14:15:51.356304Z"
    }
   },
   "cell_type": "code",
   "source": [
    "for i in range(15):\n",
    "    print(llm.invoke(\"hello\"))"
   ],
   "id": "51063ecbbcb012d9",
   "outputs": [
    {
     "name": "stdout",
     "output_type": "stream",
     "text": [
      "Hello! How can I help you today?\n",
      "Hello! How can I help you today?\n",
      "Hello! How can I help you today?\n",
      "Hello! How can I help you today?\n",
      "Hello! How can I help you today?\n",
      "Hello! How can I help you today?\n",
      "Hello! How can I help you today?\n",
      "Hello! How can I help you today?\n",
      "Hello! How can I help you today?\n",
      "Hello! How can I help you today?\n",
      "Hello! How can I help you today?\n",
      "Hello! How can I help you today?\n",
      "Hello! How can I help you today?\n",
      "Hello! How can I help you today?\n",
      "Hello! How can I help you today?\n"
     ]
    }
   ],
   "execution_count": 3
  },
  {
   "metadata": {
    "ExecuteTime": {
     "end_time": "2024-07-31T17:03:54.061152Z",
     "start_time": "2024-07-31T17:03:54.042387Z"
    }
   },
   "cell_type": "code",
   "source": [
    "import base64\n",
    "from io import BytesIO\n",
    "\n",
    "from IPython.display import HTML, display\n",
    "from PIL import Image\n",
    "\n",
    "\n",
    "def convert_to_base64(pil_image):\n",
    "    \"\"\"\n",
    "    Convert PIL images to Base64 encoded strings\n",
    "\n",
    "    :param pil_image: PIL image\n",
    "    :return: Re-sized Base64 string\n",
    "    \"\"\"\n",
    "\n",
    "    buffered = BytesIO()\n",
    "    pil_image.save(buffered, format=\"PNG\")  # You can change the format if needed\n",
    "    img_str = base64.b64encode(buffered.getvalue()).decode(\"utf-8\")\n",
    "    return img_str\n",
    "\n",
    "\n",
    "def plt_img_base64(img_base64):\n",
    "    \"\"\"\n",
    "    Display base64 encoded string as image\n",
    "\n",
    "    :param img_base64:  Base64 string\n",
    "    \"\"\"\n",
    "    # Create an HTML img tag with the base64 string as the source\n",
    "    image_html = f'<img src=\"data:image/png;base64,{img_base64}\" />'\n",
    "    # Display the image by rendering the HTML\n",
    "    display(HTML(image_html))\n",
    "    \n",
    "image_root = \"../rendered_views/scene0704_00/1618/high/\"\n",
    "\n",
    "def encode_image_to_base64(image_path):\n",
    "    with open(image_path, \"rb\") as image_file:\n",
    "        return base64.b64encode(image_file.read()).decode('utf-8')\n",
    "\n",
    "images = []\n",
    "for i in [2]:\n",
    "    # pil_image = Image.open(image_root + f\"view_{i}.png\")\n",
    "    # image_base64 = convert_to_base64(pil_image)\n",
    "    images.append(encode_image_to_base64(image_root + f\"view_{i}.png\"))\n",
    "    # plt_img_base64(image_base64)"
   ],
   "id": "ad42c46219c48b96",
   "outputs": [],
   "execution_count": 8
  },
  {
   "metadata": {
    "ExecuteTime": {
     "end_time": "2024-07-31T17:03:57.251964Z",
     "start_time": "2024-07-31T17:03:57.243154Z"
    }
   },
   "cell_type": "code",
   "source": "llm_with_image_context = llm.bind(images=images)",
   "id": "c1cdeea9231acfa1",
   "outputs": [],
   "execution_count": 9
  },
  {
   "metadata": {
    "ExecuteTime": {
     "end_time": "2024-07-31T17:03:58.173804Z",
     "start_time": "2024-07-31T17:03:58.156049Z"
    }
   },
   "cell_type": "code",
   "source": [
    "import os\n",
    "import base64\n",
    "from langchain_openai import ChatOpenAI\n",
    "from langchain_core.output_parsers import PydanticOutputParser\n",
    "from langchain_core.prompts import PromptTemplate\n",
    "from langchain_core.pydantic_v1 import BaseModel, Field\n",
    "\n",
    "class Result(BaseModel):\n",
    "    \"\"\"\n",
    "    The result of the image locator.\n",
    "    \"\"\"\n",
    "    index: int = Field(\n",
    "        default=None, \n",
    "        enum=[0, 1],\n",
    "        description=\"the index of the upper-left corner of the bbox\")\n",
    "\n",
    "    reason: str = Field(\n",
    "        default=None,\n",
    "        description=\"the reason why the index is chosen\"\n",
    "    )\n",
    "    \n",
    "parser = PydanticOutputParser(pydantic_object=Result)\n",
    "template = \"\"\"You are a helpful image locator who can understand the text description I give you about a specific object. You need to answer which bounding box (bbox) in the image contains the target object from the text description. You only need to provide the index of the upper-left corner of the bbox and explain why you chose it. Wrap the output in `json` tags\\n{format_instructions} \\ndescription: {description}\n",
    "\"\"\"\n",
    "\n",
    "description = \"looking in from the door the trash can on the right\"\n",
    "\n",
    "prompt = PromptTemplate.from_template(template).partial(format_instructions=parser.get_format_instructions())\n",
    "# print(prompt.format_prompt(description=description).to_string())\n",
    "prompt.invoke({\"description\": description})"
   ],
   "id": "6a4230ed3244c369",
   "outputs": [
    {
     "data": {
      "text/plain": [
       "StringPromptValue(text='You are a helpful image locator who can understand the text description I give you about a specific object. You need to answer which bounding box (bbox) in the image contains the target object from the text description. You only need to provide the index of the upper-left corner of the bbox and explain why you chose it. Wrap the output in `json` tags\\nThe output should be formatted as a JSON instance that conforms to the JSON schema below.\\n\\nAs an example, for the schema {\"properties\": {\"foo\": {\"title\": \"Foo\", \"description\": \"a list of strings\", \"type\": \"array\", \"items\": {\"type\": \"string\"}}}, \"required\": [\"foo\"]}\\nthe object {\"foo\": [\"bar\", \"baz\"]} is a well-formatted instance of the schema. The object {\"properties\": {\"foo\": [\"bar\", \"baz\"]}} is not well-formatted.\\n\\nHere is the output schema:\\n```\\n{\"description\": \"The result of the image locator.\", \"properties\": {\"index\": {\"title\": \"Index\", \"description\": \"the index of the upper-left corner of the bbox\", \"enum\": [0, 1], \"type\": \"integer\"}, \"reason\": {\"title\": \"Reason\", \"description\": \"the reason why the index is chosen\", \"type\": \"string\"}}}\\n``` \\ndescription: looking in from the door the trash can on the right\\n')"
      ]
     },
     "execution_count": 10,
     "metadata": {},
     "output_type": "execute_result"
    }
   ],
   "execution_count": 10
  },
  {
   "metadata": {
    "ExecuteTime": {
     "end_time": "2024-07-31T17:04:28.941324Z",
     "start_time": "2024-07-31T17:03:59.950714Z"
    }
   },
   "cell_type": "code",
   "source": [
    "chain = prompt | llm_with_image_context | parser\n",
    "\n",
    "for i in range(10):\n",
    "    print(f\"Attempt {i}:\", end=\" \")\n",
    "    try:\n",
    "        print(chain.invoke({\"description\": description}))\n",
    "    except:\n",
    "        print(\"Error ocurred\")\n",
    "        pass"
   ],
   "id": "9b2066cb3cace308",
   "outputs": [
    {
     "name": "stdout",
     "output_type": "stream",
     "text": [
      "Attempt 0: index=1 reason='The trash can is located to the right of the doorway. The bounding box with index 1 contains the trash can and the area around it.'\n",
      "Attempt 1: index=1 reason='The trash can is located to the right of the doorway. The bounding box with index 1 contains the trash can and the area around it.'\n",
      "Attempt 2: index=1 reason='The trash can is located to the right of the doorway. The bounding box with index 1 contains the trash can and the area around it.'\n",
      "Attempt 3: index=1 reason='The trash can is located to the right of the doorway. The bounding box with index 1 contains the trash can and the area around it.'\n",
      "Attempt 4: index=1 reason='The trash can is located to the right of the doorway. The bounding box with index 1 contains the trash can and the area around it.'\n",
      "Attempt 5: index=1 reason='The trash can is located to the right of the doorway. The bounding box with index 1 contains the trash can and the area around it.'\n",
      "Attempt 6: index=1 reason='The trash can is located to the right of the doorway. The bounding box with index 1 contains the trash can and the area around it.'\n",
      "Attempt 7: index=1 reason='The trash can is located to the right of the doorway. The bounding box with index 1 contains the trash can and the area around it.'\n",
      "Attempt 8: index=1 reason='The trash can is located to the right of the doorway. The bounding box with index 1 contains the trash can and the area around it.'\n",
      "Attempt 9: index=1 reason='The trash can is located to the right of the doorway. The bounding box with index 1 contains the trash can and the area around it.'\n"
     ]
    }
   ],
   "execution_count": 11
  },
  {
   "metadata": {
    "ExecuteTime": {
     "end_time": "2024-07-30T16:14:57.609814Z",
     "start_time": "2024-07-30T16:14:57.606002Z"
    }
   },
   "cell_type": "code",
   "source": "",
   "id": "aa3f9c252705726c",
   "outputs": [],
   "execution_count": 6
  }
 ],
 "metadata": {
  "kernelspec": {
   "display_name": "Python 3",
   "language": "python",
   "name": "python3"
  },
  "language_info": {
   "codemirror_mode": {
    "name": "ipython",
    "version": 2
   },
   "file_extension": ".py",
   "mimetype": "text/x-python",
   "name": "python",
   "nbconvert_exporter": "python",
   "pygments_lexer": "ipython2",
   "version": "2.7.6"
  }
 },
 "nbformat": 4,
 "nbformat_minor": 5
}
